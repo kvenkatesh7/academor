{
 "cells": [
  {
   "cell_type": "code",
   "execution_count": 3,
   "id": "e91df328",
   "metadata": {},
   "outputs": [
    {
     "name": "stdout",
     "output_type": "stream",
     "text": [
      "hello vir\n"
     ]
    }
   ],
   "source": [
    "def greet(name):\n",
    "    print(\"hello\",name)\n",
    "greet(\"vir\")"
   ]
  },
  {
   "cell_type": "code",
   "execution_count": 4,
   "id": "f54afb7c",
   "metadata": {},
   "outputs": [
    {
     "data": {
      "text/plain": [
       "2.0"
      ]
     },
     "execution_count": 4,
     "metadata": {},
     "output_type": "execute_result"
    }
   ],
   "source": [
    "from math import*\n",
    "sqrt(4)"
   ]
  },
  {
   "cell_type": "code",
   "execution_count": 1,
   "id": "f33935ef",
   "metadata": {},
   "outputs": [
    {
     "name": "stdout",
     "output_type": "stream",
     "text": [
      "2.0\n"
     ]
    }
   ],
   "source": [
    "import math\n",
    "print(math.sqrt(4))"
   ]
  },
  {
   "cell_type": "code",
   "execution_count": 13,
   "id": "1780ade4",
   "metadata": {},
   "outputs": [
    {
     "name": "stdout",
     "output_type": "stream",
     "text": [
      "enter1600\n",
      "leap year\n"
     ]
    }
   ],
   "source": [
    "def leap(n):\n",
    "    if n%100==0:\n",
    "        if n%400==0:\n",
    "            print(\"leap year\")\n",
    "        else:\n",
    "            print(\"not leap year\")\n",
    "    else:\n",
    "        print(\"not leap year\")\n",
    "k=int(input(\"enter\"))\n",
    "leap(k)"
   ]
  },
  {
   "cell_type": "code",
   "execution_count": 20,
   "id": "80fd5c41",
   "metadata": {},
   "outputs": [
    {
     "name": "stdout",
     "output_type": "stream",
     "text": [
      "*****\n",
      "****\n",
      "***\n",
      "**\n",
      "*\n"
     ]
    }
   ],
   "source": [
    "for i in range(5,0,-1):\n",
    "    print(i*\"*\")"
   ]
  },
  {
   "cell_type": "code",
   "execution_count": 36,
   "id": "c4578a98",
   "metadata": {},
   "outputs": [
    {
     "name": "stdout",
     "output_type": "stream",
     "text": [
      "* * * * * \n",
      "* * * * \n",
      "* * * \n",
      "* * \n",
      "* \n"
     ]
    }
   ],
   "source": [
    "for i in range(5,0,-1):\n",
    "    for j in range(0,i):\n",
    "        print(\"*\",end=\" \")\n",
    "    print()"
   ]
  },
  {
   "cell_type": "code",
   "execution_count": 54,
   "id": "6254c5b2",
   "metadata": {},
   "outputs": [
    {
     "name": "stdout",
     "output_type": "stream",
     "text": [
      "     *\n",
      "    ***\n",
      "   *****\n",
      "  *******\n",
      " *********\n"
     ]
    }
   ],
   "source": [
    "rows = 5\n",
    "for i in range(1, rows + 1):\n",
    "  print(\" \" * (rows - i) , \"*\" * (2 * i - 1))\n"
   ]
  },
  {
   "cell_type": "code",
   "execution_count": 1,
   "id": "80728290",
   "metadata": {},
   "outputs": [
    {
     "name": "stdout",
     "output_type": "stream",
     "text": [
      "hello\n",
      "heo\n",
      "k\n"
     ]
    }
   ],
   "source": [
    "msg=\"\"\"hello\n",
    "heo\n",
    "k\"\"\"\n",
    "print(msg)"
   ]
  },
  {
   "cell_type": "code",
   "execution_count": 3,
   "id": "e5cf88ed",
   "metadata": {},
   "outputs": [
    {
     "name": "stdout",
     "output_type": "stream",
     "text": [
      "enter number:1\n",
      "enter num: 2\n",
      "enter num: 5\n",
      "enter num: 0\n"
     ]
    },
    {
     "data": {
      "text/plain": [
       "8"
      ]
     },
     "execution_count": 3,
     "metadata": {},
     "output_type": "execute_result"
    }
   ],
   "source": [
    "k=int(input(\"enter number:\"))\n",
    "sum=0\n",
    "while k!=0:\n",
    "    sum+=k\n",
    "    k=int(input(\"enter num: \"))\n",
    "sum\n",
    "    "
   ]
  },
  {
   "cell_type": "code",
   "execution_count": 4,
   "id": "5f252e24",
   "metadata": {},
   "outputs": [
    {
     "name": "stdout",
     "output_type": "stream",
     "text": [
      "i=0,j=0\n",
      "i=0,j=1\n",
      "i=1,j=0\n",
      "i=1,j=1\n"
     ]
    }
   ],
   "source": [
    "for i in range(2):\n",
    "    for j in range(2):\n",
    "        print(f\"i={i},j={j}\")"
   ]
  },
  {
   "cell_type": "code",
   "execution_count": 1,
   "id": "1bd37cea",
   "metadata": {},
   "outputs": [
    {
     "name": "stdout",
     "output_type": "stream",
     "text": [
      "{(1, 2): 'one two', 3: 'three'}\n"
     ]
    }
   ],
   "source": [
    "my_dict={(1,2):\"one two\",3:\"three\"}\n",
    "print(my_dict)"
   ]
  },
  {
   "cell_type": "code",
   "execution_count": 13,
   "id": "d943ff52",
   "metadata": {},
   "outputs": [
    {
     "name": "stdout",
     "output_type": "stream",
     "text": [
      "(1, 2) one two\n",
      "3 three\n",
      "dict_keys([(1, 2), 3])\n",
      "dict_values(['one two', 'three'])\n",
      "{}\n"
     ]
    }
   ],
   "source": [
    "my_dict={(1,2):\"one two\",3:\"three\"}\n",
    "for i in my_dict:\n",
    "    print(i,my_dict[i])\n",
    "print(my_dict.keys())\n",
    "print(my_dict.values())\n",
    "my_dict.clear()\n",
    "print(my_dict)"
   ]
  },
  {
   "cell_type": "code",
   "execution_count": 14,
   "id": "8c4656e5",
   "metadata": {},
   "outputs": [
    {
     "name": "stdout",
     "output_type": "stream",
     "text": [
      "three\n"
     ]
    }
   ],
   "source": [
    "my_dict={(1,2):\"one two\",3:\"three\"}\n",
    "print(my_dict.pop(3))"
   ]
  },
  {
   "cell_type": "code",
   "execution_count": 15,
   "id": "2c9c7d01",
   "metadata": {},
   "outputs": [
    {
     "name": "stdout",
     "output_type": "stream",
     "text": [
      "union:  {1, 2, 3, 4, 5}\n",
      "intersection:  {3}\n",
      "symmetric difference:  {1, 2, 4, 5}\n",
      " difference:  {1, 2}\n"
     ]
    }
   ],
   "source": [
    "a={1,2,3}\n",
    "b={3,4,5}\n",
    "print(\"union: \",a|b)\n",
    "print(\"intersection: \",a&b)\n",
    "print(\"symmetric difference: \",a^b)\n",
    "print(\" difference: \",a-b)"
   ]
  },
  {
   "cell_type": "code",
   "execution_count": 3,
   "id": "d9576f15",
   "metadata": {},
   "outputs": [
    {
     "name": "stdout",
     "output_type": "stream",
     "text": [
      "pythonais awesomeis awesomeis awesome\n"
     ]
    }
   ],
   "source": [
    "file=open(\"file.txt\",\"r\")\n",
    "print(file.read())"
   ]
  },
  {
   "cell_type": "code",
   "execution_count": 4,
   "id": "17642c61",
   "metadata": {},
   "outputs": [
    {
     "name": "stdout",
     "output_type": "stream",
     "text": [
      "pythonais awesomeis awesomeis awesome\n"
     ]
    }
   ],
   "source": [
    "with open(\"file.txt\") as file:\n",
    "    data=file.read()\n",
    "print(data)"
   ]
  },
  {
   "cell_type": "code",
   "execution_count": 5,
   "id": "2b26220d",
   "metadata": {},
   "outputs": [
    {
     "name": "stdout",
     "output_type": "stream",
     "text": [
      "['pythonais', 'awesomeis', 'awesomeis', 'awesome']\n"
     ]
    }
   ],
   "source": [
    "with open(\"file.txt\") as file:\n",
    "    data=file.readlines()\n",
    "    for i in data:\n",
    "        word=i.split()\n",
    "        print(word)\n",
    "        "
   ]
  },
  {
   "cell_type": "code",
   "execution_count": 3,
   "id": "28897608",
   "metadata": {},
   "outputs": [
    {
     "name": "stdout",
     "output_type": "stream",
     "text": [
      "hello ever\n"
     ]
    }
   ],
   "source": [
    "file=open(\"file.txt\",'r')\n",
    "print(file.read(10))"
   ]
  },
  {
   "cell_type": "code",
   "execution_count": 12,
   "id": "78c2f8d3",
   "metadata": {},
   "outputs": [
    {
     "data": {
      "text/plain": [
       "7"
      ]
     },
     "execution_count": 12,
     "metadata": {},
     "output_type": "execute_result"
    }
   ],
   "source": [
    "file=open(\"file.txt\",'w')\n",
    "file.write(\"pythona\")"
   ]
  },
  {
   "cell_type": "code",
   "execution_count": 15,
   "id": "0b0d115a",
   "metadata": {},
   "outputs": [],
   "source": [
    "file=open(\"file.txt\",'a')\n",
    "file.write(\"is awesome\")\n",
    "file.close()"
   ]
  },
  {
   "cell_type": "code",
   "execution_count": 3,
   "id": "2e71e505",
   "metadata": {},
   "outputs": [
    {
     "name": "stdout",
     "output_type": "stream",
     "text": [
      "enter num : 15\n",
      "enter deno: a\n",
      "deno not be zero\n"
     ]
    }
   ],
   "source": [
    "try:\n",
    "    num=int(input(\"enter num : \"))\n",
    "    deno=int(input(\"enter deno: \"))\n",
    "    print(num/deno)\n",
    "except:\n",
    "    print(\"deno not be zero\")"
   ]
  },
  {
   "cell_type": "code",
   "execution_count": 16,
   "id": "ef629f4f",
   "metadata": {},
   "outputs": [
    {
     "name": "stdout",
     "output_type": "stream",
     "text": [
      "Enter a number: 0\n",
      "You can't divide by zero!\n"
     ]
    }
   ],
   "source": [
    "try:\n",
    "    result = 10 / int(input(\"Enter a number: \"))\n",
    "except ZeroDivisionError:\n",
    "    print(\"You can't divide by zero!\")\n",
    "except ValueError:\n",
    "    print(\"Please enter a valid number!\")\n"
   ]
  },
  {
   "cell_type": "code",
   "execution_count": 14,
   "id": "27155f61",
   "metadata": {},
   "outputs": [
    {
     "name": "stdout",
     "output_type": "stream",
     "text": [
      "Caught an exception: division by zero\n"
     ]
    }
   ],
   "source": [
    "try:\n",
    "    result = 10 / 0\n",
    "except ZeroDivisionError as e:\n",
    "    print(f\"Caught an exception: {e}\")\n"
   ]
  },
  {
   "cell_type": "code",
   "execution_count": 40,
   "id": "16dd2d1a",
   "metadata": {},
   "outputs": [
    {
     "name": "stdout",
     "output_type": "stream",
     "text": [
      "out of bound\n",
      "this will execute no matter what\n"
     ]
    }
   ],
   "source": [
    "try:\n",
    "    list=[1,2,3]\n",
    "    print(list[4])\n",
    "except IndexError:\n",
    "    print(\"out of bound\")\n",
    "finally:\n",
    "    print(\"this will execute no matter what\")"
   ]
  },
  {
   "cell_type": "code",
   "execution_count": 39,
   "id": "a76e987c",
   "metadata": {},
   "outputs": [
    {
     "name": "stdout",
     "output_type": "stream",
     "text": [
      "enter .7\n",
      "enter an even no.\n"
     ]
    }
   ],
   "source": [
    "try:\n",
    "    k=int(input(\"enter .\"))\n",
    "    assert k%2==0\n",
    "    print(1/k)\n",
    "except:\n",
    "    print(\"enter an even no.\")"
   ]
  },
  {
   "cell_type": "code",
   "execution_count": 7,
   "id": "c2fcce31",
   "metadata": {},
   "outputs": [
    {
     "name": "stdout",
     "output_type": "stream",
     "text": [
      "enter .6\n",
      "0.16666666666666666\n"
     ]
    }
   ],
   "source": [
    "try:\n",
    "    k=int(input(\"enter .\"))\n",
    "    assert k%2==0\n",
    "except:\n",
    "    print(\"enter an even no.\")\n",
    "else:\n",
    "    print(1/k)"
   ]
  },
  {
   "cell_type": "code",
   "execution_count": 42,
   "id": "09855010",
   "metadata": {},
   "outputs": [
    {
     "data": {
      "text/plain": [
       "[2, 4, 6]"
      ]
     },
     "execution_count": 42,
     "metadata": {},
     "output_type": "execute_result"
    }
   ],
   "source": [
    "#comprehension\n",
    "list= [1,2,3]\n",
    "double_num=[i*2 for i in list]\n",
    "double_num"
   ]
  },
  {
   "cell_type": "code",
   "execution_count": 6,
   "id": "c96165d0",
   "metadata": {},
   "outputs": [
    {
     "name": "stdout",
     "output_type": "stream",
     "text": [
      "5\n",
      "2\n"
     ]
    }
   ],
   "source": [
    "def add(a=3,b=7):\n",
    "    print(a)\n",
    "    print(b)\n",
    "add(b=2,a=5)"
   ]
  },
  {
   "cell_type": "code",
   "execution_count": 13,
   "id": "d30edd22",
   "metadata": {},
   "outputs": [
    {
     "name": "stdout",
     "output_type": "stream",
     "text": [
      "21\n"
     ]
    }
   ],
   "source": [
    "def add( *num):\n",
    "    total=0\n",
    "    for i in num:\n",
    "        total=total+i\n",
    "    print(total)\n",
    "add(1,2,3,4,5,6)\n"
   ]
  },
  {
   "cell_type": "code",
   "execution_count": 15,
   "id": "bc3cbe4b",
   "metadata": {},
   "outputs": [
    {
     "name": "stdout",
     "output_type": "stream",
     "text": [
      "hello world everyone\n"
     ]
    }
   ],
   "source": [
    "greet= lambda name: print(\"hello world\",name)\n",
    "greet(\"everyone\")"
   ]
  },
  {
   "cell_type": "code",
   "execution_count": 16,
   "id": "2ae12522",
   "metadata": {},
   "outputs": [
    {
     "name": "stdout",
     "output_type": "stream",
     "text": [
      "10\n",
      "15\n"
     ]
    }
   ],
   "source": [
    "#functions as objects\n",
    "def make(x):\n",
    "    def inc(y):\n",
    "        return x+y\n",
    "    return inc\n",
    "inca=make(5)\n",
    "incb=make(5)\n",
    "\n",
    "print(inca(5))\n",
    "print(incb(10))\n",
    "        "
   ]
  },
  {
   "cell_type": "code",
   "execution_count": 22,
   "id": "19bf10b3",
   "metadata": {},
   "outputs": [
    {
     "name": "stdout",
     "output_type": "stream",
     "text": [
      "<p>hellojohn!<p>\n"
     ]
    }
   ],
   "source": [
    "def say_hello(name):\n",
    "    return \"hello\"+str(name)+\"!\"\n",
    "def k(func):\n",
    "    def a(name):\n",
    "        return \"<p>\"+func(name)+\"<p>\"\n",
    "    return a\n",
    "abc=k(say_hello)\n",
    "print(abc(\"john\"))"
   ]
  },
  {
   "cell_type": "code",
   "execution_count": 23,
   "id": "902b7cb2",
   "metadata": {},
   "outputs": [
    {
     "name": "stdout",
     "output_type": "stream",
     "text": [
      "im dcorated\n",
      "i am ordinary\n"
     ]
    }
   ],
   "source": [
    "def decorated(func):\n",
    "    def inner():\n",
    "        print(\"im dcorated\")\n",
    "        func()\n",
    "    return inner\n",
    "def ordinary():\n",
    "    print(\"i am ordinary\")\n",
    "pretty=decorated(ordinary)\n",
    "pretty()"
   ]
  },
  {
   "cell_type": "code",
   "execution_count": 24,
   "id": "977e92f8",
   "metadata": {},
   "outputs": [
    {
     "name": "stdout",
     "output_type": "stream",
     "text": [
      "im dcorated\n",
      "i am ordinary\n"
     ]
    }
   ],
   "source": [
    "def decorated(func):\n",
    "    def inner():\n",
    "        print(\"im dcorated\")\n",
    "        func()\n",
    "    return inner\n",
    "@decorated\n",
    "def ordinary():\n",
    "    print(\"i am ordinary\")\n",
    "ordinary()"
   ]
  },
  {
   "cell_type": "code",
   "execution_count": 8,
   "id": "7d754551",
   "metadata": {},
   "outputs": [
    {
     "name": "stdout",
     "output_type": "stream",
     "text": [
      "Initial counter value: 0\n",
      "Counter after increment: 1\n"
     ]
    }
   ],
   "source": [
    "# Define a global variable\n",
    "counter = 0\n",
    "\n",
    "def increment():\n",
    "    global counter  # Declare that we are using the global variable 'counter'\n",
    "    counter += 1    # Modify the global variable\n",
    "\n",
    "def main():\n",
    "    print(\"Initial counter value:\", counter)\n",
    "    increment()\n",
    "    print(\"Counter after increment:\", counter)\n",
    "\n",
    "if __name__ == \"__main__\":\n",
    "    main()\n"
   ]
  },
  {
   "cell_type": "code",
   "execution_count": 6,
   "id": "1c594648",
   "metadata": {},
   "outputs": [
    {
     "name": "stdout",
     "output_type": "stream",
     "text": [
      "11\n",
      "15\n"
     ]
    }
   ],
   "source": [
    "import re    #regex\n",
    "\n",
    "s=\"pythong is good\"\n",
    "matc=re.search(r\"good\",s)\n",
    "print(matc.start())\n",
    "print(matc.end())"
   ]
  },
  {
   "cell_type": "code",
   "execution_count": 8,
   "id": "69e49099",
   "metadata": {},
   "outputs": [
    {
     "name": "stdout",
     "output_type": "stream",
     "text": [
      "[' ', 'a', ' ', 'g', ' ', ' ', ' ', 'g']\n"
     ]
    }
   ],
   "source": [
    "import re\n",
    "\n",
    "s=\"the lazy dog is  good\"\n",
    "k=\"[a - g]\"\n",
    "result=re.findall(k,s)\n",
    "print(result)"
   ]
  },
  {
   "cell_type": "code",
   "execution_count": 11,
   "id": "4761796b",
   "metadata": {},
   "outputs": [
    {
     "name": "stdout",
     "output_type": "stream",
     "text": [
      "['e', 'a', 'd', 'g', 'g', 'd']\n"
     ]
    }
   ],
   "source": [
    "import re\n",
    "\n",
    "s=\"the lazy dog is  good\"\n",
    "k=\"[a-g]\"\n",
    "result=re.findall(k,s)\n",
    "print(result)"
   ]
  },
  {
   "cell_type": "code",
   "execution_count": 16,
   "id": "5115db4c",
   "metadata": {},
   "outputs": [
    {
     "name": "stdout",
     "output_type": "stream",
     "text": [
      "successful\n"
     ]
    }
   ],
   "source": [
    "import re\n",
    "\n",
    "s=\"abyss\"\n",
    "k=\"^a...s$\"                       #metacharecters ^,.,$ etc\n",
    "result=re.match(k,s)\n",
    "\n",
    "if  result:\n",
    "    print(\"successful\")\n",
    "else:\n",
    "    print(\"unsuccessful\")"
   ]
  },
  {
   "cell_type": "code",
   "execution_count": 17,
   "id": "b97bdad4",
   "metadata": {},
   "outputs": [
    {
     "name": "stdout",
     "output_type": "stream",
     "text": [
      "Requirement already satisfied: scipy in c:\\users\\kamsa\\anaconda3\\lib\\site-packages (1.7.3)\n",
      "Requirement already satisfied: numpy<1.23.0,>=1.16.5 in c:\\users\\kamsa\\anaconda3\\lib\\site-packages (from scipy) (1.21.5)\n",
      "Note: you may need to restart the kernel to use updated packages.\n"
     ]
    }
   ],
   "source": [
    "#scipy is scientific python has numpy underneath. It provides more scientific optimizzations(eg. constants like pi)\n"
   ]
  },
  {
   "cell_type": "code",
   "execution_count": 18,
   "id": "f5b62cb6",
   "metadata": {},
   "outputs": [
    {
     "name": "stdout",
     "output_type": "stream",
     "text": [
      "1.7.3\n"
     ]
    }
   ],
   "source": [
    "import scipy\n",
    "\n",
    "print(scipy.__version__)"
   ]
  },
  {
   "cell_type": "code",
   "execution_count": 19,
   "id": "a350cce4",
   "metadata": {},
   "outputs": [
    {
     "name": "stdout",
     "output_type": "stream",
     "text": [
      "3.141592653589793\n"
     ]
    }
   ],
   "source": [
    "from scipy import constants\n",
    "print(constants.pi)"
   ]
  },
  {
   "cell_type": "code",
   "execution_count": 27,
   "id": "ad1cda65",
   "metadata": {},
   "outputs": [
    {
     "name": "stdout",
     "output_type": "stream",
     "text": [
      "  (0, 0)\t1\n",
      "  (0, 1)\t2\n",
      "  (0, 2)\t3\n",
      "  (0, 6)\t4\n",
      "  (1, 0)\t12\n",
      "  (1, 5)\t5\n"
     ]
    }
   ],
   "source": [
    "import numpy as np\n",
    "from scipy.sparse import csr_matrix\n",
    "\n",
    "a=np.array([[1,2,3,0,0,0,4],\n",
    "          [12,0,0,0,0,5,0]])\n",
    "print(csr_matrix(a))"
   ]
  },
  {
   "cell_type": "code",
   "execution_count": 28,
   "id": "3f553a40",
   "metadata": {},
   "outputs": [
    {
     "name": "stdout",
     "output_type": "stream",
     "text": [
      "[ 1  2  3  4 12  5]\n"
     ]
    }
   ],
   "source": [
    "import numpy as np\n",
    "from scipy.sparse import csr_matrix\n",
    "\n",
    "a=np.array([[1,2,3,0,0,0,4],\n",
    "          [12,0,0,0,0,5,0]])\n",
    "print(csr_matrix(a).data)"
   ]
  },
  {
   "cell_type": "code",
   "execution_count": 29,
   "id": "ffd7cd98",
   "metadata": {},
   "outputs": [
    {
     "name": "stdout",
     "output_type": "stream",
     "text": [
      "(1, array([0, 0, 0]))\n"
     ]
    }
   ],
   "source": [
    "import numpy as np\n",
    "from scipy.sparse.csgraph import connected_components\n",
    "from scipy.sparse import csr_matrix\n",
    "a=np.array([[0,1,2],\n",
    "          [1,0,0],\n",
    "           [2,0,0]])\n",
    "new_arr=csr_matrix(a)\n",
    "print(connected_components(new_arr))"
   ]
  },
  {
   "cell_type": "code",
   "execution_count": 1,
   "id": "a0011539",
   "metadata": {},
   "outputs": [
    {
     "name": "stdout",
     "output_type": "stream",
     "text": [
      "3.5.1\n"
     ]
    }
   ],
   "source": [
    "import matplotlib\n",
    "print(matplotlib.__version__)"
   ]
  },
  {
   "cell_type": "code",
   "execution_count": 14,
   "id": "4a31c2a6",
   "metadata": {},
   "outputs": [
    {
     "data": {
      "image/png": "[encoded data removed]",
      "text/plain": [
       "<Figure size 432x288 with 1 Axes>"
      ]
     },
     "metadata": {
      "needs_background": "light"
     },
     "output_type": "display_data"
    }
   ],
   "source": [
    "import numpy as np\n",
    "import matplotlib.pyplot as plt\n",
    "\n",
    "en=np.array([1,2,3,4])\n",
    "e=np.array([10,20,30,40])\n",
    "plt.plot(y,x)\n",
    "plt.ylabel(\"calories\")\n",
    "plt.xlabel(\"hours\")\n",
    "plt.title(\"gym\")\n",
    "plt.show()"
   ]
  },
  {
   "cell_type": "code",
   "execution_count": 22,
   "id": "73c59057",
   "metadata": {},
   "outputs": [
    {
     "data": {
      "image/png": "[encoded data removed]",
      "text/plain": [
       "<Figure size 432x288 with 1 Axes>"
      ]
     },
     "metadata": {
      "needs_background": "light"
     },
     "output_type": "display_data"
    }
   ],
   "source": [
    "import numpy as np\n",
    "import matplotlib.pyplot as plt\n",
    "\n",
    "en=np.array([1,2,3,4])\n",
    "e=np.array([10,20,30,40])\n",
    "\n",
    "font1={'family':'serif','color':'red','size':20}\n",
    "font2={'family':'DejaVu Sans','color':'blue','size':30}\n",
    "\n",
    "plt.scatter(y,x)\n",
    "plt.ylabel(\"calories\",fontdict=font1)\n",
    "plt.xlabel(\"hours\",fontdict=font2)\n",
    "plt.title(\"gym\")\n",
    "plt.grid()\n",
    "plt.show()"
   ]
  },
  {
   "cell_type": "code",
   "execution_count": 21,
   "id": "c9f13bd1",
   "metadata": {},
   "outputs": [
    {
     "data": {
      "image/png": "[encoded data removed]",
      "text/plain": [
       "<Figure size 432x288 with 6 Axes>"
      ]
     },
     "metadata": {
      "needs_background": "light"
     },
     "output_type": "display_data"
    }
   ],
   "source": [
    "import numpy as np\n",
    "import matplotlib.pyplot as plt\n",
    "\n",
    "x=np.array([1,2,3])\n",
    "y=np.array([10,20,30])\n",
    "plt.subplot(2,3,1)\n",
    "plt.plot(x,y)\n",
    "\n",
    "x=np.array([1,2,3])\n",
    "y=np.array([10,20,30])\n",
    "plt.subplot(2,3,2)\n",
    "plt.plot(x,y)\n",
    "\n",
    "x=np.array([1,2,3])\n",
    "y=np.array([10,20,30])\n",
    "plt.subplot(2,3,3)\n",
    "plt.plot(x,y)\n",
    "\n",
    "x=np.array([1,2,3])\n",
    "y=np.array([10,20,30])\n",
    "plt.subplot(2,3,4)\n",
    "plt.plot(x,y)\n",
    "\n",
    "x=np.array([1,2,3])\n",
    "y=np.array([10,20,30])\n",
    "plt.subplot(2,3,5)\n",
    "plt.plot(x,y)\n",
    "\n",
    "x=np.array([1,2,3])\n",
    "y=np.array([10,20,30])\n",
    "plt.subplot(2,3,6)\n",
    "plt.plot(x,y)\n",
    "\n",
    "plt.show()"
   ]
  },
  {
   "cell_type": "code",
   "execution_count": 27,
   "id": "0cde9339",
   "metadata": {},
   "outputs": [
    {
     "data": {
      "image/png": "[encoded data removed]",
      "text/plain": [
       "<Figure size 432x288 with 1 Axes>"
      ]
     },
     "metadata": {
      "needs_background": "light"
     },
     "output_type": "display_data"
    }
   ],
   "source": [
    "import numpy as np\n",
    "import matplotlib.pyplot as plt\n",
    "\n",
    "x=np.array([1,2,3,4])\n",
    "y=np.array([10,20,30,40])\n",
    "\n",
    "font1={'family':'serif','color':'red','size':20}\n",
    "font2={'family':'DejaVu Sans','color':'blue','size':30}\n",
    "\n",
    "plt.scatter(y,x,color='yellow')\n",
    "x=([3,4,5])\n",
    "y=([12,13,25])\n",
    "plt.scatter(y,x,color='green')\n",
    "plt.ylabel(\"calories\",fontdict=font1)\n",
    "plt.xlabel(\"hours\",fontdict=font2)\n",
    "plt.title(\"gym\")\n",
    "plt.grid()\n",
    "plt.show()"
   ]
  },
  {
   "cell_type": "code",
   "execution_count": 7,
   "id": "ae4e0d53",
   "metadata": {},
   "outputs": [
    {
     "data": {
      "image/png": "[encoded data removed]",
      "text/plain": [
       "<Figure size 432x288 with 1 Axes>"
      ]
     },
     "metadata": {
      "needs_background": "light"
     },
     "output_type": "display_data"
    }
   ],
   "source": [
    "import numpy as np\n",
    "import matplotlib.pyplot as plt\n",
    "\n",
    "x=np.array([1,2,3])\n",
    "y=np.array([10,20,30])\n",
    "plt.barh(x,y)\n",
    "plt.show()"
   ]
  },
  {
   "cell_type": "code",
   "execution_count": 17,
   "id": "75acf932",
   "metadata": {},
   "outputs": [
    {
     "data": {
      "image/png": "[encoded data removed]",
      "text/plain": [
       "<Figure size 432x288 with 1 Axes>"
      ]
     },
     "metadata": {},
     "output_type": "display_data"
    }
   ],
   "source": [
    "import numpy as np\n",
    "import matplotlib.pyplot as plt\n",
    "\n",
    "x=([10,20,30])\n",
    "y=([\"apples\",\"bananas\",\"oranges\"])\n",
    "myexplode=([0.5,0,0])\n",
    "plt.pie(x,labels=y,explode=myexplode,shadow=True)\n",
    "plt.legend()\n",
    "plt.show()"
   ]
  },
  {
   "cell_type": "code",
   "execution_count": 1,
   "id": "e9d5b0dc",
   "metadata": {},
   "outputs": [
    {
     "data": {
      "image/png": "[encoded data removed]",
      "text/plain": [
       "<Figure size 432x288 with 1 Axes>"
      ]
     },
     "metadata": {
      "needs_background": "light"
     },
     "output_type": "display_data"
    }
   ],
   "source": [
    "import matplotlib.pyplot as plt\n",
    "\n",
    "plt.bar([1,2,3],[4,5,6],label=\"bmw\",color='r',width=0.5)\n",
    "plt.bar([1.5,2.5,3.5],[7,8,9],label=\"merc\",color='b',width=0.5)\n",
    "\n",
    "\n",
    "plt.show()"
   ]
  },
  {
   "cell_type": "code",
   "execution_count": 5,
   "id": "02a02cea",
   "metadata": {},
   "outputs": [
    {
     "data": {
      "image/png": "[encoded data removed]",
      "text/plain": [
       "<Figure size 432x288 with 1 Axes>"
      ]
     },
     "metadata": {
      "needs_background": "light"
     },
     "output_type": "display_data"
    }
   ],
   "source": [
    "import matplotlib.pyplot as plt\n",
    "import numpy as np\n",
    "\n",
    "# Sample data\n",
    "data = np.random.randn(1000)\n",
    "\n",
    "# Create histogram\n",
    "plt.hist(data, bins=30, edgecolor='black')\n",
    "\n",
    "# Add title and labels\n",
    "plt.title('Histogram of Sample Data')\n",
    "plt.xlabel('Value')\n",
    "plt.ylabel('Frequency')\n",
    "\n",
    "# Show plot\n",
    "plt.show()\n"
   ]
  },
  {
   "cell_type": "code",
   "execution_count": 6,
   "id": "bb2467ca",
   "metadata": {},
   "outputs": [
    {
     "data": {
      "image/png": "[encoded data removed]",
      "text/plain": [
       "<Figure size 432x288 with 1 Axes>"
      ]
     },
     "metadata": {
      "needs_background": "light"
     },
     "output_type": "display_data"
    }
   ],
   "source": [
    "import matplotlib.pyplot as plt\n",
    "\n",
    "# Example input arrays (replace these with your actual data)\n",
    "x_data = [1, 2, 2, 3, 3, 3, 4, 4, 4, 4, 5, 5, 5, 5, 5]\n",
    "y_data = [5, 3, 3, 6, 6, 6, 2, 2, 2, 2, 4, 4, 4, 4, 4]\n",
    "\n",
    "# Create histogram\n",
    "plt.hist(x_data, bins=5, edgecolor='black')\n",
    "\n",
    "# Add title and labels\n",
    "plt.title('Histogram of X Data')\n",
    "plt.xlabel('X Values')\n",
    "plt.ylabel('Frequency')\n",
    "\n",
    "# Show plot\n",
    "plt.show()\n"
   ]
  },
  {
   "cell_type": "code",
   "execution_count": 10,
   "id": "e76a2913",
   "metadata": {},
   "outputs": [
    {
     "data": {
      "image/png": "[encoded data removed]",
      "text/plain": [
       "<Figure size 432x288 with 1 Axes>"
      ]
     },
     "metadata": {
      "needs_background": "light"
     },
     "output_type": "display_data"
    }
   ],
   "source": [
    "import matplotlib.pyplot as plt\n",
    "\n",
    "# Example input arrays (replace these with your actual data)\n",
    "x_data = [1, 2, 3, 4, 5, 6, 7, 8, 9, 10]\n",
    "y_data = [5, 3, 9, 6, 7, 8, 2, 4, 7, 10]\n",
    "\n",
    "# Create area plot\n",
    "plt.fill_between(x_data, y_data, color=\"skyblue\", alpha=0.4)\n",
    "plt.plot(x_data, y_data, color=\"Slateblue\", alpha=0.9)\n",
    "\n",
    "# Add title and labels\n",
    "plt.title('Area Plot of Input Data')\n",
    "plt.xlabel('X Values')\n",
    "plt.ylabel('Y Values')\n",
    "\n",
    "# Show plot\n",
    "plt.show()\n"
   ]
  },
  {
   "cell_type": "code",
   "execution_count": 15,
   "id": "6ded92c8",
   "metadata": {},
   "outputs": [
    {
     "data": {
      "image/png": "[encoded data removed]",
      "text/plain": [
       "<Figure size 432x288 with 1 Axes>"
      ]
     },
     "metadata": {
      "needs_background": "light"
     },
     "output_type": "display_data"
    }
   ],
   "source": [
    "import matplotlib.pyplot as plt\n",
    "\n",
    "# Example input arrays (replace these with your actual data)\n",
    "x_data = [1, 2, 3, 4, 5, 6, 7, 8, 9, 10]\n",
    "y_data1 = [5, 3, 9, 6, 7, 8, 2, 4, 7, 10]\n",
    "y_data2 = [2, 1, 4, 3, 4, 2, 1, 2, 3, 5]\n",
    "y_data3 = [3, 2, 5, 4, 3, 4, 1, 3, 2, 4]\n",
    "\n",
    "# Create stacked area plot\n",
    "plt.fill_between(x_data, y_data1, color=\"skyblue\", alpha=0.4, label='Y1')\n",
    "plt.fill_between(x_data, y_data2, color=\"olive\", alpha=0.4, label='Y2')\n",
    "plt.fill_between(x_data, y_data3, color=\"gold\", alpha=0.4, label='Y3')\n",
    "\n",
    "# Overlay line plots for better visibility\n",
    "plt.plot(x_data, y_data1, color=\"Slateblue\", alpha=0.6)\n",
    "plt.plot(x_data, y_data2, color=\"darkolivegreen\", alpha=0.6)\n",
    "plt.plot(x_data, y_data3, color=\"goldenrod\", alpha=0.6)\n",
    "\n",
    "# Add title and labels\n",
    "plt.title('Stacked Area Plot of Multiple Y Values')\n",
    "plt.xlabel('X Values')\n",
    "plt.ylabel('Y Values')\n",
    "\n",
    "# Add legend\n",
    "plt.legend()\n",
    "\n",
    "# Show plot\n",
    "plt.show()\n"
   ]
  },
  {
   "cell_type": "code",
   "execution_count": null,
   "id": "ed191e83",
   "metadata": {},
   "outputs": [],
   "source": []
  }
 ],
 "metadata": {
  "kernelspec": {
   "display_name": "Python 3 (ipykernel)",
   "language": "python",
   "name": "python3"
  },
  "language_info": {
   "codemirror_mode": {
    "name": "ipython",
    "version": 3
   },
   "file_extension": ".py",
   "mimetype": "text/x-python",
   "name": "python",
   "nbconvert_exporter": "python",
   "pygments_lexer": "ipython3",
   "version": "3.9.12"
  }
 },
 "nbformat": 4,
 "nbformat_minor": 5
}
